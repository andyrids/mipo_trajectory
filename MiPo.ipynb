{
  "nbformat": 4,
  "nbformat_minor": 0,
  "metadata": {
    "colab": {
      "provenance": [],
      "authorship_tag": "ABX9TyMT3tZKQ+9ToMqZb9KH28XU",
      "include_colab_link": true
    },
    "kernelspec": {
      "name": "python3",
      "display_name": "Python 3"
    },
    "language_info": {
      "name": "python"
    }
  },
  "cells": [
    {
      "cell_type": "markdown",
      "metadata": {
        "id": "view-in-github",
        "colab_type": "text"
      },
      "source": [
        "<a href=\"https://colab.research.google.com/github/andyrids/mipo_trajectory/blob/main/MiPo.ipynb\" target=\"_parent\"><img src=\"https://colab.research.google.com/assets/colab-badge.svg\" alt=\"Open In Colab\"/></a>"
      ]
    },
    {
      "cell_type": "code",
      "source": [
        "try:\n",
        "    import haversine\n",
        "    import folium\n",
        "except ImportError:\n",
        "    %pip install haversine mapclassify folium -q"
      ],
      "metadata": {
        "colab": {
          "base_uri": "https://localhost:8080/"
        },
        "id": "tf5Y9G8SpGTJ",
        "outputId": "98f522a9-d911-46d3-dafb-4e8ee1c93b34"
      },
      "execution_count": null,
      "outputs": [
        {
          "output_type": "stream",
          "name": "stdout",
          "text": [
            "\u001b[?25l   \u001b[90m━━━━━━━━━━━━━━━━━━━━━━━━━━━━━━━━━━━━━━━━\u001b[0m \u001b[32m0.0/59.1 kB\u001b[0m \u001b[31m?\u001b[0m eta \u001b[36m-:--:--\u001b[0m\r\u001b[2K   \u001b[90m━━━━━━━━━━━━━━━━━━━━━━━━━━━━━━━━━━━━━━━━\u001b[0m \u001b[32m59.1/59.1 kB\u001b[0m \u001b[31m4.5 MB/s\u001b[0m eta \u001b[36m0:00:00\u001b[0m\n",
            "\u001b[?25h"
          ]
        }
      ]
    },
    {
      "cell_type": "code",
      "execution_count": null,
      "metadata": {
        "id": "mh9KNjPhSKg-"
      },
      "outputs": [],
      "source": [
        "import io\n",
        "import multiprocessing\n",
        "import pathlib\n",
        "import zipfile\n",
        "from collections import defaultdict\n",
        "from typing import Tuple\n",
        "\n",
        "import matplotlib.pyplot as plt\n",
        "import numpy as np\n",
        "import requests\n",
        "from numpy import float64\n",
        "from numpy.typing import ArrayLike, NDArray\n",
        "from pandas import DataFrame, Series, concat, read_csv, to_datetime, to_timedelta\n",
        "from scipy.stats import median_abs_deviation\n",
        "from sklearn.cluster import KMeans\n",
        "# from sklearn.metrics import silhouette_score"
      ]
    },
    {
      "cell_type": "code",
      "source": [
        "def calculate_earth_radius(latitude_values: ArrayLike) -> NDArray[float64]:\n",
        "    \"\"\"\"\"\"\n",
        "    EQUATORIAL_RADIUS = 6_378_137\n",
        "    POLAR_RADIUS = 6_356_752\n",
        "\n",
        "    latitude_rad = np.radians(latitude_values)\n",
        "    numerator = (\n",
        "        (EQUATORIAL_RADIUS**2 * np.cos(latitude_rad))**2 +\n",
        "        (POLAR_RADIUS**2 * np.sin(latitude_rad))**2\n",
        "    )\n",
        "    denominator = (\n",
        "        (EQUATORIAL_RADIUS * np.cos(latitude_rad))**2 +\n",
        "        (POLAR_RADIUS * np.sin(latitude_rad))**2\n",
        "    )\n",
        "    earth_radius = np.sqrt(numerator / denominator)\n",
        "    return earth_radius\n",
        "\n",
        "\n",
        "def latlong_to_cartesian_xyz(latitude_values: ArrayLike, longitude_values: ArrayLike) -> Tuple[NDArray[float64], NDArray[float64], NDArray[float64]]:\n",
        "    \"\"\"\"\"\"\n",
        "    latitude_rad = np.radians(latitude_values)\n",
        "    longitude_rad = np.radians(longitude_values)\n",
        "    earth_radius = calculate_earth_radius(latitude_values)\n",
        "\n",
        "    x = earth_radius * np.cos(latitude_rad) * np.cos(longitude_rad)\n",
        "    y = earth_radius * np.cos(latitude_rad) * np.sin(longitude_rad)\n",
        "    z = earth_radius * np.sin(latitude_rad)\n",
        "    return x, y, z\n",
        "\n",
        "\n",
        "def calculate_mzx(data: ArrayLike, c_mad: float = 1.4826) -> NDArray[float64]:\n",
        "    \"\"\"\"\"\"\n",
        "    data = np.where(np.isinf(data), np.nan, data)\n",
        "    if np.isnan(data).all():\n",
        "        return data\n",
        "    median_ad = median_abs_deviation(data, nan_policy=\"omit\")\n",
        "    constant = c_mad\n",
        "\n",
        "    if not median_ad or np.isnan(median_ad):\n",
        "        mean_ad = np.nanmean(np.abs(data - np.nanmean(data)))\n",
        "        if not mean_ad or np.isnan(mean_ad):\n",
        "            return np.full_like(data, np.nan)\n",
        "\n",
        "        modified_zscore = constant * (data - np.nanmedian(data)) / mean_ad\n",
        "    else:\n",
        "        modified_zscore = constant * (data - np.nanmedian(data)) / median_ad\n",
        "    return np.abs(modified_zscore)"
      ],
      "metadata": {
        "id": "xRSmuR2USLv1"
      },
      "execution_count": null,
      "outputs": []
    },
    {
      "cell_type": "code",
      "source": [
        "def read_csv_files(path: pathlib.Path) -> DataFrame:\n",
        "    data = read_csv(path, sep=\";\")\n",
        "    return data.assign(uid=path.stem)\n",
        "\n",
        "\n",
        "def process_file(path: pathlib.Path) -> DataFrame | None:\n",
        "    try:\n",
        "        return read_csv_files(path)\n",
        "    except Exception as e:\n",
        "        print(f\"Error processing {path}: {e}\")\n",
        "        return None\n",
        "\n",
        "\n",
        "num_processes = multiprocessing.cpu_count()\n",
        "with multiprocessing.Pool(processes=num_processes) as pool:\n",
        "    data_path = pathlib.Path(\"data/data\")\n",
        "    if not data_path.exists():\n",
        "        r = requests.get(\"https://figshare.com/ndownloader/files/16442771\")\n",
        "        zf = zipfile.ZipFile(io.BytesIO(r.content))\n",
        "        zf.extractall(path=\"data\")\n",
        "\n",
        "    paths = tuple(data_path.glob(\"*.txt\"))\n",
        "    results = pool.map(process_file, paths[:100])\n",
        "\n",
        "dataframes = filter(lambda x: isinstance(x, DataFrame), results)\n",
        "\n",
        "data = (\n",
        "    concat(dataframes)\n",
        "    .assign(t=lambda x: to_timedelta(x[\"t\"], unit=\"s\"))\n",
        "    .assign(datetime=lambda x: to_datetime(\"now\") + x[\"t\"])\n",
        "    .filter((\"uid\", \"datetime\", \"x\", \"y\", ), axis=\"columns\")\n",
        "    .rename(columns={\"x\": \"longitude\", \"y\": \"latitude\"})\n",
        "    .astype({\"uid\": \"string\"})\n",
        "    .sort_values([\"uid\", \"datetime\"])\n",
        "    .reset_index(drop=True)\n",
        ")"
      ],
      "metadata": {
        "id": "HwTZFeVYqL3r"
      },
      "execution_count": null,
      "outputs": []
    },
    {
      "cell_type": "code",
      "source": [
        "data.info()"
      ],
      "metadata": {
        "colab": {
          "base_uri": "https://localhost:8080/"
        },
        "id": "Inn_L7K-UzLL",
        "outputId": "caf0b3a1-7b02-4d6c-e12d-57932bb740ed"
      },
      "execution_count": null,
      "outputs": [
        {
          "output_type": "stream",
          "name": "stdout",
          "text": [
            "<class 'pandas.core.frame.DataFrame'>\n",
            "RangeIndex: 43658 entries, 0 to 43657\n",
            "Data columns (total 4 columns):\n",
            " #   Column     Non-Null Count  Dtype         \n",
            "---  ------     --------------  -----         \n",
            " 0   uid        43658 non-null  string        \n",
            " 1   datetime   43658 non-null  datetime64[ns]\n",
            " 2   longitude  43658 non-null  float64       \n",
            " 3   latitude   43658 non-null  float64       \n",
            "dtypes: datetime64[ns](1), float64(2), string(1)\n",
            "memory usage: 1.3 MB\n"
          ]
        }
      ]
    },
    {
      "cell_type": "code",
      "source": [
        "data[\"uid\"].unique()"
      ],
      "metadata": {
        "colab": {
          "base_uri": "https://localhost:8080/"
        },
        "id": "TxJ0UW8HH63b",
        "outputId": "1a23672c-58af-45ea-a613-ebb0b82da96e"
      },
      "execution_count": null,
      "outputs": [
        {
          "output_type": "execute_result",
          "data": {
            "text/plain": [
              "<StringArray>\n",
              "['traj_10164', 'traj_10293', 'traj_10295', 'traj_10325',  'traj_1039',\n",
              " 'traj_10390',  'traj_1040', 'traj_10456', 'traj_10585', 'traj_11143',\n",
              " 'traj_11505', 'traj_11805', 'traj_11856', 'traj_12179',  'traj_1247',\n",
              "  'traj_1249',  'traj_1250', 'traj_12835', 'traj_13126', 'traj_13413',\n",
              " 'traj_13624', 'traj_13733', 'traj_13782', 'traj_13863',  'traj_1426',\n",
              " 'traj_14529', 'traj_14655',  'traj_1479', 'traj_14941', 'traj_15085',\n",
              " 'traj_15257', 'traj_15966', 'traj_16045', 'traj_16443', 'traj_16593',\n",
              " 'traj_16982', 'traj_17077', 'traj_17189',  'traj_1719', 'traj_17342',\n",
              " 'traj_17348', 'traj_17429', 'traj_17506', 'traj_17642', 'traj_17699',\n",
              " 'traj_17731', 'traj_17965', 'traj_17969', 'traj_18009', 'traj_18125',\n",
              " 'traj_18445', 'traj_18603',  'traj_2087',  'traj_2111',  'traj_2209',\n",
              "  'traj_2573',  'traj_2729',  'traj_2749',  'traj_3045',  'traj_3118',\n",
              "  'traj_3332',  'traj_3825',  'traj_3913',  'traj_4331',  'traj_4667',\n",
              "  'traj_4698',  'traj_4898',  'traj_5432',  'traj_5686',  'traj_5949',\n",
              "  'traj_5959',  'traj_6050',  'traj_6140',  'traj_6274',  'traj_6302',\n",
              "  'traj_6316',  'traj_6699',  'traj_6822',  'traj_6938',  'traj_7000',\n",
              "  'traj_7119',  'traj_7473',   'traj_807',  'traj_8183',  'traj_8339',\n",
              "  'traj_8378',  'traj_8523',  'traj_8753',  'traj_8773',  'traj_8896',\n",
              "  'traj_8942',  'traj_8979',  'traj_9120',  'traj_9179',  'traj_9213',\n",
              "  'traj_9246',  'traj_9394',  'traj_9595',   'traj_967',  'traj_9895']\n",
              "Length: 100, dtype: string"
            ]
          },
          "metadata": {},
          "execution_count": 19
        }
      ]
    },
    {
      "cell_type": "code",
      "source": [
        "traj_10164 = data.query(\"uid == 'traj_10164'\")\n",
        "x, y, z = latlong_to_cartesian_xyz(traj_10164[\"latitude\"], traj_10164[\"longitude\"])"
      ],
      "metadata": {
        "id": "qdS-9EVH2-6R"
      },
      "execution_count": null,
      "outputs": []
    },
    {
      "cell_type": "code",
      "source": [
        "X = np.column_stack((x, y))"
      ],
      "metadata": {
        "id": "pC1Hk3E438UW"
      },
      "execution_count": null,
      "outputs": []
    },
    {
      "cell_type": "code",
      "source": [
        "kmeans = KMeans(n_clusters=2, random_state=0).fit(X[[0,-1]])\n",
        "res = kmeans.cluster_centers_"
      ],
      "metadata": {
        "id": "2ePS7O6QrtMa"
      },
      "execution_count": null,
      "outputs": []
    },
    {
      "cell_type": "code",
      "source": [
        "source, middle, destination = res[0], sum(res) / 2, res[1]"
      ],
      "metadata": {
        "id": "1zfaZjKY66x2"
      },
      "execution_count": null,
      "outputs": []
    },
    {
      "cell_type": "code",
      "source": [
        "def position_of_line(\n",
        "        point_a: NDArray[float64],\n",
        "        point_b: NDArray[float64],\n",
        "        point_c: NDArray[float64]\n",
        "    ) -> int:\n",
        "    \"\"\"Determine which side of a line point point_c lies on.\"\"\"\n",
        "    # Extract x,y coordinates from the points\n",
        "    point_a_x, point_a_y = point_a  # point A coordinates\n",
        "    point_b_x, point_b_y = point_b  # point B coordinates\n",
        "    point_c_x, point_c_y = point_c  # point C coordinates\n",
        "\n",
        "    # calculate the sign of the cross product\n",
        "    # indicates if C is on the left (+1) or right (-1) of line AB\n",
        "    position = np.sign(\n",
        "        (point_b_x - point_a_x) *\n",
        "        (point_c_y - point_a_y) -\n",
        "        (point_b_y - point_a_y) *\n",
        "        (point_c_x - point_a_x)\n",
        "    )\n",
        "\n",
        "    return 1 if position >= 0 else -1"
      ],
      "metadata": {
        "id": "gKi4y3xOpVxQ"
      },
      "execution_count": null,
      "outputs": []
    },
    {
      "cell_type": "code",
      "source": [
        "def calculate_angle(point_a: ArrayLike, point_b: ArrayLike, point_c: ArrayLike):\n",
        "    \"\"\"Calculate the angle in degrees between three points.\"\"\"\n",
        "    # convert points to numpy arrays for vector operations\n",
        "    point_a, point_b, point_c = (\n",
        "        np.array(point_a), np.array(point_b), np.array(point_c)\n",
        "    )\n",
        "\n",
        "    # vectors from the center point (b) to points a & c\n",
        "    vector_ba = point_a - point_b  # vector from b to a\n",
        "    vector_bc = point_c - point_b  # vector from b to c\n",
        "\n",
        "    # calculate angle using the dot product formula:\n",
        "    # cos(θ) = (v1 · v2) / (|v1| * |v2|)\n",
        "    dot_product = np.dot(vector_ba, vector_bc)\n",
        "    magnitude_ba = np.linalg.norm(vector_ba)  # Length of vector ba\n",
        "    magnitude_bc = np.linalg.norm(vector_bc)  # Length of vector bc\n",
        "\n",
        "    # handle edge cases to prevent errors\n",
        "    if np.isnan(dot_product) or np.isnan(magnitude_ba) or (magnitude_ba * magnitude_bc) == 0:\n",
        "        return 0\n",
        "    if np.isnan(magnitude_bc):\n",
        "        return 180\n",
        "\n",
        "    # calculate the cosine of the angle\n",
        "    cosine_angle = dot_product / (magnitude_ba * magnitude_bc)\n",
        "\n",
        "    # handle floating point errors giving slightly invalid cosine values\n",
        "    cosine_angle = np.clip(cosine_angle, -1, 1)\n",
        "\n",
        "    # convert from radians to degrees\n",
        "    angle = np.arccos(cosine_angle) * 180 / np.pi\n",
        "\n",
        "    # Use position_of_line to determine if we should return the angle\n",
        "    # or its complement to 360 degrees\n",
        "    position = position_of_line(point_a, point_b, point_c)\n",
        "    return angle if position == 1 else 360 - angle\n"
      ],
      "metadata": {
        "id": "arsy-mt066hS"
      },
      "execution_count": null,
      "outputs": []
    },
    {
      "cell_type": "code",
      "source": [
        "def extract_mipo_features(segment: NDArray[float64], k: int):\n",
        "    \"\"\"\"\"\"\n",
        "    segment_start, segment_end = segment[0], segment[-1]\n",
        "    segment_middle = np.array(\n",
        "        (np.median(segment[:, 0]), np.median(segment[:, 1]))\n",
        "    )\n",
        "\n",
        "    # size of each angle bin\n",
        "    bin_angle_range = 180 / k\n",
        "\n",
        "    # counter for points [≤180°, >180°]\n",
        "    feature_point = [0, 0]\n",
        "    # point indices by angle bin\n",
        "    bucket = defaultdict(list)\n",
        "    # cumulative distances by bin\n",
        "    bucket_dist = dict((i,0) for i in range(k))\n",
        "\n",
        "    # add starting point to first bin\n",
        "    bucket[0].append(0)\n",
        "\n",
        "    for i in range(1, len(segment) - 1):\n",
        "        # calculate angle between start point, middle point, and current point\n",
        "        angle = calculate_angle(segment_start, segment_middle, segment[i])\n",
        "\n",
        "        # determine which hemisphere the point belongs to and count it\n",
        "        angle_bin = 0\n",
        "        if angle <= 180:\n",
        "            angle_bin = angle // bin_angle_range\n",
        "            # count points in first hemisphere\n",
        "            feature_point[0] += 1\n",
        "        else:\n",
        "            angles_bin = (360 - angle) // bin_angle_range\n",
        "            # count points in second hemisphere\n",
        "            feature_point[1] += 1\n",
        "\n",
        "        # ensure bin index stays within bounds\n",
        "        idx = int(angle_bin)\n",
        "        if idx > k - 1:\n",
        "            idx = k - 1\n",
        "\n",
        "        # store point index and calculate distance to middle point\n",
        "        bucket[idx].append(i)\n",
        "        bucket_dist[idx] += np.sqrt(np.sum((segment[i] - segment_middle) ** 2))  # distance feature\n",
        "\n",
        "    # add end point to last bin\n",
        "    bucket[k - 1].append(-1)\n",
        "\n",
        "    # calculate average distance for each bin\n",
        "    feature_dist = []\n",
        "    for j in range(len(bucket)):\n",
        "        avg_dst = 0\n",
        "        a = len(bucket[j])\n",
        "        # average distance if bin has points\n",
        "        if a > 0:\n",
        "            avg_dst = bucket_dist[j] / a\n",
        "        else:\n",
        "            # use previous bin's distance...\n",
        "            if len(feature_dist) > 0:\n",
        "                avg_dst = feature_dist[-1]\n",
        "            # ...or distance to start point\n",
        "            else:\n",
        "                avg_dst = np.sqrt(np.sum((segment_start - segment_middle) ** 2))\n",
        "        feature_dist.append(avg_dst)\n",
        "\n",
        "    # combine distance features with point distribution features\n",
        "    feature = feature_dist + feature_point\n",
        "    return feature"
      ],
      "metadata": {
        "id": "A69oNsaywKeP"
      },
      "execution_count": null,
      "outputs": []
    },
    {
      "cell_type": "code",
      "source": [
        "def analyze_trajectory_windows(trajectory, window_size, step_size, k):\n",
        "    features = []\n",
        "    windows = []\n",
        "    # Slide window along trajectory\n",
        "    for i in range(0, len(trajectory) - window_size + 1, step_size):\n",
        "        window = trajectory[i:i + window_size]\n",
        "        # Extract MiPo features for this window\n",
        "        window_features = extract_mipo_features(window, k)\n",
        "        features.append(window_features)\n",
        "        windows.append(window)\n",
        "    return features, windows"
      ],
      "metadata": {
        "id": "PprrO7d7Hen-"
      },
      "execution_count": null,
      "outputs": []
    },
    {
      "cell_type": "code",
      "source": [
        "X = np.column_stack((x, y))\n",
        "\n",
        "features, windows = analyze_trajectory_windows(X, window_size=5, step_size=5, k=20)"
      ],
      "metadata": {
        "id": "OpN691d-Hd_N"
      },
      "execution_count": null,
      "outputs": []
    },
    {
      "cell_type": "code",
      "source": [
        "middles = np.array([[np.median(w[:, 0]), np.median(w[:, 1])] for w in windows])"
      ],
      "metadata": {
        "id": "6uf_z6mjLPQL"
      },
      "execution_count": null,
      "outputs": []
    },
    {
      "cell_type": "code",
      "source": [
        "plt.figure(figsize=(15,10), dpi=100)\n",
        "\n",
        "plt.plot(\n",
        "    middles[:,0],\n",
        "    middles[:,1],\n",
        "    marker='o',\n",
        "    ms=10,\n",
        "    linestyle='-',\n",
        "    color='g',\n",
        "    linewidth=0.5,\n",
        "    alpha=0.5,\n",
        "    label='Window Middle'\n",
        ")\n",
        "\n",
        "plt.plot(\n",
        "    X[:,0],\n",
        "    X[:,1],\n",
        "    marker='o',\n",
        "    ms=3,\n",
        "    linestyle='-',\n",
        "    color='b',\n",
        "    linewidth=0.5,\n",
        "    label='Trajectory'\n",
        ")\n",
        "\n",
        "# Add a colorbar for the legend\n",
        "plt.legend()"
      ],
      "metadata": {
        "colab": {
          "base_uri": "https://localhost:8080/",
          "height": 866
        },
        "id": "MLJd7YAvHeaj",
        "outputId": "b4df930e-f773-436c-c0e5-710f87782d27"
      },
      "execution_count": null,
      "outputs": [
        {
          "output_type": "execute_result",
          "data": {
            "text/plain": [
              "<matplotlib.legend.Legend at 0x7c1c2846f290>"
            ]
          },
          "metadata": {},
          "execution_count": 93
        },
        {
          "output_type": "display_data",
          "data": {
            "text/plain": [
              "<Figure size 1500x1000 with 1 Axes>"
            ],
            "image/png": "[encoded data removed]"
          },
          "metadata": {}
        }
      ]
    },
    {
      "cell_type": "code",
      "source": [
        "features"
      ],
      "metadata": {
        "colab": {
          "base_uri": "https://localhost:8080/"
        },
        "id": "K96YBkZJ9W89",
        "outputId": "5918f914-cd7d-4390-8d89-2bdb497b3070"
      },
      "execution_count": null,
      "outputs": [
        {
          "output_type": "execute_result",
          "data": {
            "text/plain": [
              "[[138.2219792948427, 138.2219792948427, 2, 1],\n",
              " [1044.4610571624441, 1044.4610571624441, 2, 1],\n",
              " [231.19561347838362, 231.19561347838362, 1, 2],\n",
              " [1258.7024477013679, 1258.7024477013679, 2, 1],\n",
              " [250.1653823761521, 250.1653823761521, 2, 1],\n",
              " [250.4077848575022, 250.4077848575022, 2, 1],\n",
              " [285.6521276598396, 285.6521276598396, 1, 2],\n",
              " [180.9202097739135, 180.9202097739135, 3, 0],\n",
              " [537.746394536149, 537.746394536149, 1, 2],\n",
              " [468.04518287230167, 468.04518287230167, 1, 2],\n",
              " [427.880685549425, 427.880685549425, 3, 0],\n",
              " [326.1381895104039, 326.1381895104039, 1, 2],\n",
              " [575.7824860975645, 575.7824860975645, 1, 2],\n",
              " [304.64351080659833, 304.64351080659833, 1, 2],\n",
              " [210.73000254789596, 210.73000254789596, 2, 1],\n",
              " [236.59017010464558, 236.59017010464558, 2, 1],\n",
              " [326.02167183304874, 326.02167183304874, 1, 2],\n",
              " [303.57924651339755, 303.57924651339755, 2, 1],\n",
              " [289.69621216409786, 289.69621216409786, 1, 2],\n",
              " [320.21111045173643, 320.21111045173643, 1, 2],\n",
              " [197.38813563066947, 197.38813563066947, 2, 1],\n",
              " [294.84167659627576, 294.84167659627576, 2, 1],\n",
              " [178.8626203996155, 178.8626203996155, 2, 1],\n",
              " [321.011674440443, 321.011674440443, 1, 2],\n",
              " [848.1337299778436, 848.1337299778436, 1, 2],\n",
              " [175.0994024473181, 175.0994024473181, 3, 0],\n",
              " [241.38539274004717, 241.38539274004717, 2, 1],\n",
              " [165.24805799443996, 165.24805799443996, 3, 0],\n",
              " [242.28891229438807, 242.28891229438807, 1, 2],\n",
              " [168.89061290723183, 168.89061290723183, 2, 1],\n",
              " [241.3160216907345, 241.3160216907345, 2, 1],\n",
              " [146.7029604897227, 146.7029604897227, 3, 0],\n",
              " [147.21680934363891, 147.21680934363891, 2, 1],\n",
              " [129.4951545959029, 129.4951545959029, 3, 0],\n",
              " [272.39675784902033, 272.39675784902033, 2, 1],\n",
              " [121.05177331464687, 121.05177331464687, 3, 0],\n",
              " [677.674092906982, 677.674092906982, 2, 1],\n",
              " [118.86796466200366, 118.86796466200366, 2, 1],\n",
              " [174.31373054320213, 174.31373054320213, 2, 1],\n",
              " [158.95875924363258, 158.95875924363258, 2, 1],\n",
              " [233.78939767783612, 233.78939767783612, 1, 2],\n",
              " [151.5859603616224, 151.5859603616224, 2, 1],\n",
              " [144.10611467380662, 144.10611467380662, 3, 0],\n",
              " [175.64778972880458, 175.64778972880458, 2, 1],\n",
              " [432.22690479178664, 432.22690479178664, 1, 2],\n",
              " [193.557089661709, 193.557089661709, 3, 0]]"
            ]
          },
          "metadata": {},
          "execution_count": 94
        }
      ]
    },
    {
      "cell_type": "code",
      "source": [
        "for i,w in enumerate(windows):\n",
        "    print(i, len(w))"
      ],
      "metadata": {
        "colab": {
          "base_uri": "https://localhost:8080/"
        },
        "id": "wqWcnkIOJpN8",
        "outputId": "665464e2-1446-4962-9988-b66083dd94f0"
      },
      "execution_count": null,
      "outputs": [
        {
          "output_type": "stream",
          "name": "stdout",
          "text": [
            "0 5\n",
            "1 5\n",
            "2 5\n",
            "3 5\n",
            "4 5\n",
            "5 5\n",
            "6 5\n",
            "7 5\n",
            "8 5\n",
            "9 5\n",
            "10 5\n",
            "11 5\n",
            "12 5\n",
            "13 5\n",
            "14 5\n",
            "15 5\n",
            "16 5\n",
            "17 5\n",
            "18 5\n",
            "19 5\n",
            "20 5\n",
            "21 5\n",
            "22 5\n",
            "23 5\n",
            "24 5\n",
            "25 5\n",
            "26 5\n",
            "27 5\n",
            "28 5\n",
            "29 5\n",
            "30 5\n",
            "31 5\n",
            "32 5\n",
            "33 5\n",
            "34 5\n",
            "35 5\n",
            "36 5\n",
            "37 5\n",
            "38 5\n",
            "39 5\n",
            "40 5\n",
            "41 5\n",
            "42 5\n",
            "43 5\n",
            "44 5\n",
            "45 5\n"
          ]
        }
      ]
    },
    {
      "cell_type": "code",
      "source": [
        "234 / 5"
      ],
      "metadata": {
        "colab": {
          "base_uri": "https://localhost:8080/"
        },
        "id": "Cse7XE7FPfKL",
        "outputId": "9781d3c6-7db5-4d6a-ea09-b1f29db7c6b8"
      },
      "execution_count": null,
      "outputs": [
        {
          "output_type": "execute_result",
          "data": {
            "text/plain": [
              "46.8"
            ]
          },
          "metadata": {},
          "execution_count": 96
        }
      ]
    },
    {
      "cell_type": "code",
      "source": [
        "X.shape"
      ],
      "metadata": {
        "colab": {
          "base_uri": "https://localhost:8080/"
        },
        "id": "IoL787B474Nq",
        "outputId": "b54aa255-d9b5-406b-bd1f-ee83baf8a1f5"
      },
      "execution_count": null,
      "outputs": [
        {
          "output_type": "execute_result",
          "data": {
            "text/plain": [
              "(234, 2)"
            ]
          },
          "metadata": {},
          "execution_count": 89
        }
      ]
    },
    {
      "cell_type": "code",
      "source": [
        "234 / 11"
      ],
      "metadata": {
        "colab": {
          "base_uri": "https://localhost:8080/"
        },
        "id": "4O0BN2fCJlrn",
        "outputId": "37aff8ae-d60a-4847-de12-cf3ced776d37"
      },
      "execution_count": null,
      "outputs": [
        {
          "output_type": "execute_result",
          "data": {
            "text/plain": [
              "21.272727272727273"
            ]
          },
          "metadata": {},
          "execution_count": 33
        }
      ]
    },
    {
      "cell_type": "code",
      "source": [
        "plt.figure(figsize=(18,18), dpi=100)\n",
        "\n",
        "plt.plot(\n",
        "    X[[0, -1]][:,0],\n",
        "    X[[0, -1]][:,1],\n",
        "    marker='*',\n",
        "    ms=8,\n",
        "    linestyle='--',\n",
        "    color='red',\n",
        "    linewidth=0.5,\n",
        "    label='Start & destination'\n",
        ")\n",
        "\n",
        "plt.plot(\n",
        "    res[:,0],\n",
        "    res[:,1],\n",
        "    marker='o',\n",
        "    ms=10,\n",
        "    linestyle='-',\n",
        "    color='g',\n",
        "    linewidth=0.5,\n",
        "    label='KMeans CP'\n",
        ")\n",
        "\n",
        "plt.plot(\n",
        "    X[:,0],\n",
        "    X[:,1],\n",
        "    marker='o',\n",
        "    ms=5,\n",
        "    linestyle='-',\n",
        "    color='b',\n",
        "    linewidth=0.5,\n",
        "    label='Trajectory'\n",
        ")"
      ],
      "metadata": {
        "colab": {
          "base_uri": "https://localhost:8080/",
          "height": 234
        },
        "id": "gj1a69ms1AO-",
        "outputId": "b91e16db-56eb-4803-9c47-21b0cdd03787"
      },
      "execution_count": null,
      "outputs": [
        {
          "output_type": "error",
          "ename": "NameError",
          "evalue": "name 'X' is not defined",
          "traceback": [
            "\u001b[0;31m---------------------------------------------------------------------------\u001b[0m",
            "\u001b[0;31mNameError\u001b[0m                                 Traceback (most recent call last)",
            "\u001b[0;32m<ipython-input-23-93fc06fed479>\u001b[0m in \u001b[0;36m<cell line: 0>\u001b[0;34m()\u001b[0m\n\u001b[1;32m      2\u001b[0m \u001b[0;34m\u001b[0m\u001b[0m\n\u001b[1;32m      3\u001b[0m plt.plot(\n\u001b[0;32m----> 4\u001b[0;31m     \u001b[0mX\u001b[0m\u001b[0;34m[\u001b[0m\u001b[0;34m[\u001b[0m\u001b[0;36m0\u001b[0m\u001b[0;34m,\u001b[0m \u001b[0;34m-\u001b[0m\u001b[0;36m1\u001b[0m\u001b[0;34m]\u001b[0m\u001b[0;34m]\u001b[0m\u001b[0;34m[\u001b[0m\u001b[0;34m:\u001b[0m\u001b[0;34m,\u001b[0m\u001b[0;36m0\u001b[0m\u001b[0;34m]\u001b[0m\u001b[0;34m,\u001b[0m\u001b[0;34m\u001b[0m\u001b[0;34m\u001b[0m\u001b[0m\n\u001b[0m\u001b[1;32m      5\u001b[0m     \u001b[0mX\u001b[0m\u001b[0;34m[\u001b[0m\u001b[0;34m[\u001b[0m\u001b[0;36m0\u001b[0m\u001b[0;34m,\u001b[0m \u001b[0;34m-\u001b[0m\u001b[0;36m1\u001b[0m\u001b[0;34m]\u001b[0m\u001b[0;34m]\u001b[0m\u001b[0;34m[\u001b[0m\u001b[0;34m:\u001b[0m\u001b[0;34m,\u001b[0m\u001b[0;36m1\u001b[0m\u001b[0;34m]\u001b[0m\u001b[0;34m,\u001b[0m\u001b[0;34m\u001b[0m\u001b[0;34m\u001b[0m\u001b[0m\n\u001b[1;32m      6\u001b[0m     \u001b[0mmarker\u001b[0m\u001b[0;34m=\u001b[0m\u001b[0;34m'*'\u001b[0m\u001b[0;34m,\u001b[0m\u001b[0;34m\u001b[0m\u001b[0;34m\u001b[0m\u001b[0m\n",
            "\u001b[0;31mNameError\u001b[0m: name 'X' is not defined"
          ]
        },
        {
          "output_type": "display_data",
          "data": {
            "text/plain": [
              "<Figure size 1800x1800 with 0 Axes>"
            ]
          },
          "metadata": {}
        }
      ]
    },
    {
      "cell_type": "code",
      "source": [],
      "metadata": {
        "id": "L-4eWTil2Efc"
      },
      "execution_count": null,
      "outputs": []
    }
  ]
}