{
  "nbformat": 4,
  "nbformat_minor": 0,
  "metadata": {
    "colab": {
      "provenance": [],
      "authorship_tag": "ABX9TyO1DVdqjWa/aLBe28BZkRJ3",
      "include_colab_link": true
    },
    "kernelspec": {
      "name": "python3",
      "display_name": "Python 3"
    },
    "language_info": {
      "name": "python"
    }
  },
  "cells": [
    {
      "cell_type": "markdown",
      "metadata": {
        "id": "view-in-github",
        "colab_type": "text"
      },
      "source": [
        "<a href=\"https://colab.research.google.com/github/andyrids/mipo_trajectory/blob/main/MiPo.ipynb\" target=\"_parent\"><img src=\"https://colab.research.google.com/assets/colab-badge.svg\" alt=\"Open In Colab\"/></a>"
      ]
    },
    {
      "cell_type": "code",
      "source": [
        "try:\n",
        "    import haversine\n",
        "    import folium\n",
        "except ImportError:\n",
        "    %pip install haversine mapclassify folium -q\n",
        "    import haversine\n",
        "    import folium"
      ],
      "metadata": {
        "id": "tf5Y9G8SpGTJ",
        "colab": {
          "base_uri": "https://localhost:8080/"
        },
        "outputId": "c775379b-bc90-40bd-901e-11b2fb6230e6"
      },
      "execution_count": 1,
      "outputs": [
        {
          "output_type": "stream",
          "name": "stdout",
          "text": [
            "\u001b[?25l   \u001b[90m━━━━━━━━━━━━━━━━━━━━━━━━━━━━━━━━━━━━━━━━\u001b[0m \u001b[32m0.0/59.1 kB\u001b[0m \u001b[31m?\u001b[0m eta \u001b[36m-:--:--\u001b[0m\r\u001b[2K   \u001b[90m━━━━━━━━━━━━━━━━━━━━━━━━━━━━━━━━━━━━━━━━\u001b[0m \u001b[32m59.1/59.1 kB\u001b[0m \u001b[31m2.1 MB/s\u001b[0m eta \u001b[36m0:00:00\u001b[0m\n",
            "\u001b[?25h"
          ]
        }
      ]
    },
    {
      "cell_type": "code",
      "execution_count": 2,
      "metadata": {
        "id": "mh9KNjPhSKg-"
      },
      "outputs": [],
      "source": [
        "import io\n",
        "import multiprocessing\n",
        "import pathlib\n",
        "import zipfile\n",
        "from collections import defaultdict\n",
        "from typing import Tuple\n",
        "\n",
        "import matplotlib.pyplot as plt\n",
        "import numpy as np\n",
        "import requests\n",
        "from numpy import float64\n",
        "from numpy.typing import ArrayLike, NDArray\n",
        "from pandas import DataFrame, Series, concat, read_csv, to_datetime, to_timedelta\n",
        "from scipy.stats import median_abs_deviation\n",
        "from sklearn.cluster import KMeans\n",
        "from sklearn.neighbors import LocalOutlierFactor\n",
        "from sklearn.preprocessing import RobustScaler\n",
        "# from sklearn.metrics import silhouette_score"
      ]
    },
    {
      "cell_type": "code",
      "source": [
        "def calculate_earth_radius(latitude_values: ArrayLike) -> NDArray[float64]:\n",
        "    \"\"\"\"\"\"\n",
        "    EQUATORIAL_RADIUS = 6_378_137\n",
        "    POLAR_RADIUS = 6_356_752\n",
        "\n",
        "    latitude_rad = np.radians(latitude_values)\n",
        "    numerator = (\n",
        "        (EQUATORIAL_RADIUS**2 * np.cos(latitude_rad))**2 +\n",
        "        (POLAR_RADIUS**2 * np.sin(latitude_rad))**2\n",
        "    )\n",
        "    denominator = (\n",
        "        (EQUATORIAL_RADIUS * np.cos(latitude_rad))**2 +\n",
        "        (POLAR_RADIUS * np.sin(latitude_rad))**2\n",
        "    )\n",
        "    earth_radius = np.sqrt(numerator / denominator)\n",
        "    return earth_radius\n",
        "\n",
        "\n",
        "def latlong_to_cartesian_xyz(latitude_values: ArrayLike, longitude_values: ArrayLike) -> Tuple[NDArray[float64], NDArray[float64], NDArray[float64]]:\n",
        "    \"\"\"\"\"\"\n",
        "    latitude_rad = np.radians(latitude_values)\n",
        "    longitude_rad = np.radians(longitude_values)\n",
        "    earth_radius = calculate_earth_radius(latitude_values)\n",
        "\n",
        "    x = earth_radius * np.cos(latitude_rad) * np.cos(longitude_rad)\n",
        "    y = earth_radius * np.cos(latitude_rad) * np.sin(longitude_rad)\n",
        "    z = earth_radius * np.sin(latitude_rad)\n",
        "    return x, y, z\n",
        "\n",
        "\n",
        "def calculate_mzx(data: ArrayLike, c_mad: float = 1.4826) -> NDArray[float64]:\n",
        "    \"\"\"\"\"\"\n",
        "    data = np.where(np.isinf(data), np.nan, data)\n",
        "    if np.isnan(data).all():\n",
        "        return data\n",
        "    median_ad = median_abs_deviation(data, nan_policy=\"omit\")\n",
        "    constant = c_mad\n",
        "\n",
        "    if not median_ad or np.isnan(median_ad):\n",
        "        mean_ad = np.nanmean(np.abs(data - np.nanmean(data)))\n",
        "        if not mean_ad or np.isnan(mean_ad):\n",
        "            return np.full_like(data, np.nan)\n",
        "\n",
        "        modified_zscore = constant * (data - np.nanmedian(data)) / mean_ad\n",
        "    else:\n",
        "        modified_zscore = constant * (data - np.nanmedian(data)) / median_ad\n",
        "    return np.abs(modified_zscore)"
      ],
      "metadata": {
        "id": "xRSmuR2USLv1"
      },
      "execution_count": 4,
      "outputs": []
    },
    {
      "cell_type": "code",
      "source": [
        "def read_csv_files(path: pathlib.Path) -> DataFrame:\n",
        "    data = read_csv(path, sep=\";\")\n",
        "    return data.assign(uid=path.stem)\n",
        "\n",
        "\n",
        "def process_file(path: pathlib.Path) -> DataFrame | None:\n",
        "    try:\n",
        "        return read_csv_files(path)\n",
        "    except Exception as e:\n",
        "        print(f\"Error processing {path}: {e}\")\n",
        "        return None\n",
        "\n",
        "\n",
        "num_processes = multiprocessing.cpu_count()\n",
        "with multiprocessing.Pool(processes=num_processes) as pool:\n",
        "    data_path = pathlib.Path(\"data/data\")\n",
        "    if not data_path.exists():\n",
        "        r = requests.get(\"https://figshare.com/ndownloader/files/16442771\")\n",
        "        zf = zipfile.ZipFile(io.BytesIO(r.content))\n",
        "        zf.extractall(path=\"data\")\n",
        "\n",
        "    paths = tuple(data_path.glob(\"*.txt\"))\n",
        "    results = pool.map(process_file, paths[:100])\n",
        "\n",
        "dataframes = filter(lambda x: isinstance(x, DataFrame), results)\n",
        "\n",
        "data = (\n",
        "    concat(dataframes)\n",
        "    .assign(t=lambda x: to_timedelta(x[\"t\"], unit=\"s\"))\n",
        "    .assign(datetime=lambda x: to_datetime(\"now\") + x[\"t\"])\n",
        "    .filter((\"uid\", \"datetime\", \"x\", \"y\", ), axis=\"columns\")\n",
        "    .rename(columns={\"x\": \"longitude\", \"y\": \"latitude\"})\n",
        "    .astype({\"uid\": \"string\"})\n",
        "    .sort_values([\"uid\", \"datetime\"])\n",
        "    .reset_index(drop=True)\n",
        ")"
      ],
      "metadata": {
        "id": "HwTZFeVYqL3r"
      },
      "execution_count": 5,
      "outputs": []
    },
    {
      "cell_type": "code",
      "source": [
        "data.info()"
      ],
      "metadata": {
        "colab": {
          "base_uri": "https://localhost:8080/"
        },
        "id": "Inn_L7K-UzLL",
        "outputId": "67fc74de-d8a8-4f6d-e594-5b9d5db82f5c"
      },
      "execution_count": 6,
      "outputs": [
        {
          "output_type": "stream",
          "name": "stdout",
          "text": [
            "<class 'pandas.core.frame.DataFrame'>\n",
            "RangeIndex: 40074 entries, 0 to 40073\n",
            "Data columns (total 4 columns):\n",
            " #   Column     Non-Null Count  Dtype         \n",
            "---  ------     --------------  -----         \n",
            " 0   uid        40074 non-null  string        \n",
            " 1   datetime   40074 non-null  datetime64[ns]\n",
            " 2   longitude  40074 non-null  float64       \n",
            " 3   latitude   40074 non-null  float64       \n",
            "dtypes: datetime64[ns](1), float64(2), string(1)\n",
            "memory usage: 1.2 MB\n"
          ]
        }
      ]
    },
    {
      "cell_type": "code",
      "source": [
        "# kmeans = KMeans(n_clusters=2, random_state=0).fit(X[[0,-1]])\n",
        "# res = kmeans.cluster_centers_"
      ],
      "metadata": {
        "id": "2ePS7O6QrtMa"
      },
      "execution_count": 7,
      "outputs": []
    },
    {
      "cell_type": "code",
      "source": [
        "def position_of_line(\n",
        "        point_a: NDArray[float64],\n",
        "        point_b: NDArray[float64],\n",
        "        point_c: NDArray[float64]\n",
        "    ) -> int:\n",
        "    \"\"\"Determine which side of a line point point_c lies on.\"\"\"\n",
        "\n",
        "    # X,Y points\n",
        "    if point_a.size == point_b.size == point_c.size == 2:\n",
        "        # Extract x,y coordinates from the points\n",
        "        point_a_x, point_a_y = point_a  # point A coordinates\n",
        "        point_b_x, point_b_y = point_b  # point B coordinates\n",
        "        point_c_x, point_c_y = point_c  # point C coordinates\n",
        "\n",
        "        # calculate the sign of the cross product\n",
        "        # indicates if C is on the left (+1) or right (-1) of line AB\n",
        "        position = np.sign(\n",
        "            (point_b_x - point_a_x) *\n",
        "            (point_c_y - point_a_y) -\n",
        "            (point_b_y - point_a_y) *\n",
        "            (point_c_x - point_a_x)\n",
        "        )\n",
        "    # X,Y,Z points\n",
        "    else:\n",
        "        # 3D points use the cross product of vectors\n",
        "        vector_ab = point_b - point_a  # vector from A to B\n",
        "        vector_ac = point_c - point_a  # vector from A to C\n",
        "\n",
        "        # calculate cross product\n",
        "        cross_product = np.cross(vector_ab, vector_ac)\n",
        "\n",
        "        # Y-component of idicates above (+) or below (-)\n",
        "        position = np.sign(cross_product[1])\n",
        "\n",
        "    return 1 if position >= 0 else -1"
      ],
      "metadata": {
        "id": "gKi4y3xOpVxQ"
      },
      "execution_count": null,
      "outputs": []
    },
    {
      "cell_type": "code",
      "source": [
        "def calculate_angle(point_a: ArrayLike, point_b: ArrayLike, point_c: ArrayLike):\n",
        "    \"\"\"Calculate the angle in degrees between three points.\"\"\"\n",
        "    # convert points to numpy arrays for vector operations\n",
        "    point_a, point_b, point_c = (\n",
        "        np.array(point_a), np.array(point_b), np.array(point_c)\n",
        "    )\n",
        "\n",
        "    # vectors from the center point (b) to points a & c\n",
        "    vector_ba = point_a - point_b  # vector from b to a\n",
        "    vector_bc = point_c - point_b  # vector from b to c\n",
        "\n",
        "    # calculate angle using the dot product formula:\n",
        "    # cos(θ) = (v1 · v2) / (|v1| * |v2|)\n",
        "    dot_product = np.dot(vector_ba, vector_bc)\n",
        "    magnitude_ba = np.linalg.norm(vector_ba)  # Length of vector ba\n",
        "    magnitude_bc = np.linalg.norm(vector_bc)  # Length of vector bc\n",
        "\n",
        "    # handle edge cases to prevent errors\n",
        "    if np.isnan(dot_product) or np.isnan(magnitude_ba) or (magnitude_ba * magnitude_bc) == 0:\n",
        "        return 0\n",
        "    if np.isnan(magnitude_bc):\n",
        "        return 180\n",
        "\n",
        "    # calculate the cosine of the angle\n",
        "    cosine_angle = dot_product / (magnitude_ba * magnitude_bc)\n",
        "\n",
        "    # handle floating point errors giving slightly invalid cosine values\n",
        "    cosine_angle = np.clip(cosine_angle, -1, 1)\n",
        "\n",
        "    # convert from radians to degrees\n",
        "    angle = np.arccos(cosine_angle) * 180 / np.pi\n",
        "\n",
        "    # Use position_of_line to determine if we should return the angle\n",
        "    # or its complement to 360 degrees\n",
        "    position = position_of_line(point_a, point_b, point_c)\n",
        "    return angle if position == 1 else 360 - angle\n",
        "\n",
        "def calculate_theta_angle(\n",
        "        source_point: NDArray[float64],\n",
        "        middle_point: NDArray[float64],\n",
        "        target_point: NDArray[float64]\n",
        "    ) -> float:\n",
        "    \"\"\"Calculate angle in radians between source-middle-target points.\n",
        "\n",
        "    Args:\n",
        "        source_point (NDArray[float64]): Trajectory/segment start point, which\n",
        "            acts as a reference.\n",
        "\n",
        "        middle_point (NDArray[float64]): Trajectory/segment middle point, which\n",
        "            acts as a reference.\n",
        "\n",
        "        target_point (NDArray[float64]): Trajectory/segment target point to\n",
        "            calculate the theta angle for.\n",
        "\n",
        "    Raises:\n",
        "        ValueError: If the input points have different shapes.\n",
        "\n",
        "    Returns:\n",
        "        Theta angle in radians.\n",
        "    \"\"\"\n",
        "    if not source_point.size == middle_point.size == target_point.size:\n",
        "        raise ValueError(\"Expected points of the same NDArray shape.\")\n",
        "\n",
        "    # vector from middle to source & target point\n",
        "    vector_ms = source_point - middle_point\n",
        "    vector_mp = target_point - middle_point\n",
        "\n",
        "    # calculate magnitudes\n",
        "    magnitude_ms = np.linalg.norm(vector_ms)\n",
        "    magnitude_mp = np.linalg.norm(vector_mp)\n",
        "\n",
        "    # edge cases where points coincide or vectors have zero length\n",
        "    if magnitude_ms == 0 or magnitude_mp == 0:\n",
        "        return 0.0\n",
        "\n",
        "    # calculate dot product and check for NaN\n",
        "    dot_product = np.dot(vector_ms, vector_mp)\n",
        "    if np.isnan(dot_product):\n",
        "        return 0.0\n",
        "\n",
        "    # calculate norm product and check for NaN\n",
        "    norms = magnitude_ms * magnitude_mp\n",
        "    if np.isnan(norms) or norms == 0:\n",
        "        return 0.0\n",
        "\n",
        "    # handle numerical precision issues\n",
        "    cos_angle = np.clip(dot_product / norms, -1.0, 1.0)\n",
        "    angle = np.arccos(cos_angle)\n",
        "\n",
        "    # handle 2D & 3D points differently for cross product\n",
        "    if source_point.size == 2:  # 2D case\n",
        "        # for 2D, cross product is scalar (x1y2 - y1x2)\n",
        "        cross_product = vector_ms[0] * vector_mp[1] - vector_ms[1] * vector_mp[0]\n",
        "    else:\n",
        "        # for 3D, y-component of cross product indicates side\n",
        "        cross_product = np.cross(vector_ms, vector_mp)[1]\n",
        "\n",
        "    if cross_product < 0:  # if point is on right side\n",
        "        angle = 2 * np.pi - angle\n",
        "\n",
        "    return angle"
      ],
      "metadata": {
        "id": "arsy-mt066hS"
      },
      "execution_count": 23,
      "outputs": []
    },
    {
      "cell_type": "code",
      "source": [
        "def extract_features(segment: NDArray[float64], k: int):\n",
        "    # Get source (S) and destination (D) from window\n",
        "    segment_start, segment_end = segment[0], segment[-1]\n",
        "    # original calculation is M = (S + D)/2\n",
        "    segment_middle = segment_start + segment_end / 2\n",
        "    # segment_middle = np.median(segment, axis=0)\n",
        "\n",
        "\n",
        "    # initialize angle-based bins & point sets\n",
        "    bins = defaultdict(list)\n",
        "    L_j = []  # points with θ in [0, π]\n",
        "    R_j = []  # points with θ in [π, 2π]\n",
        "\n",
        "    # process segment points (excluding start)\n",
        "    for point in segment[1:]:\n",
        "        # calculate angle θ as per paper Algorithm (2)\n",
        "        theta = calculate_theta_angle(segment_start, segment_middle, point)\n",
        "\n",
        "        # determine bin according to Equation (6)\n",
        "        bin_idx = int(np.floor((theta % np.pi) * k / np.pi))\n",
        "        bin_idx = min(bin_idx, k-1)  # ensure within bounds\n",
        "\n",
        "        # Store point in appropriate bin\n",
        "        bins[bin_idx].append(point)\n",
        "\n",
        "        # track points for L_j and R_j sets (Equation 7)\n",
        "        L_j.append(point) if theta < np.pi else R_j.append(point)\n",
        "\n",
        "    # Calculate distance features according to Equation (3)\n",
        "    dist_features = []\n",
        "    for m in range(k):\n",
        "        if bins[m]:\n",
        "            # calculate mean distance for points in bin\n",
        "            distances = [np.linalg.norm(p - segment_middle) for p in bins[m]]\n",
        "            dist_features.append(np.mean(distances))\n",
        "        else:\n",
        "            # for empty bins, use distance from previous bin or segment start\n",
        "            prev_dist = dist_features[-1] if dist_features else np.linalg.norm(segment_start - segment_middle)\n",
        "            dist_features.append(prev_dist)\n",
        "\n",
        "    # calculate point features according to Equation (7)\n",
        "    point_features = [len(L_j), len(R_j)]\n",
        "\n",
        "    # combine both features according to Equation (5)\n",
        "    return np.array(dist_features + point_features)\n",
        "\n"
      ],
      "metadata": {
        "id": "hGEoFLjt_nSM"
      },
      "execution_count": 59,
      "outputs": []
    },
    {
      "cell_type": "code",
      "source": [
        "def extract_mipo_features(segment: NDArray[float64], k: int):\n",
        "    \"\"\"Calculate angle in radians between \"\"\"\n",
        "    segment_start, segment_end = segment[0], segment[-1]\n",
        "    segment_middle = np.median(segment, axis=0)\n",
        "\n",
        "    # size of each angle bin\n",
        "    bin_angle_range = 180 / k\n",
        "\n",
        "    # counter for points [≤180°, >180°]\n",
        "    feature_point = [0, 0]\n",
        "    # point indices by angle bin\n",
        "    bucket = defaultdict(list)\n",
        "    # cumulative distances by bin\n",
        "    bucket_dist = dict((i,0) for i in range(k))\n",
        "\n",
        "    # add starting point to first bin\n",
        "    bucket[0].append(0)\n",
        "\n",
        "    for i in range(1, len(segment) - 1):\n",
        "        # calculate angle between start point, middle point, and current point\n",
        "        angle = calculate_angle(segment_start, segment_middle, segment[i])\n",
        "\n",
        "        # determine which hemisphere the point belongs to and count it\n",
        "        angle_bin = 0\n",
        "        if angle <= 180:\n",
        "            angle_bin = angle // bin_angle_range\n",
        "            # count points in first hemisphere\n",
        "            feature_point[0] += 1\n",
        "        else:\n",
        "            angles_bin = (360 - angle) // bin_angle_range\n",
        "            # count points in second hemisphere\n",
        "            feature_point[1] += 1\n",
        "\n",
        "        # ensure bin index stays within bounds\n",
        "        idx = int(angle_bin)\n",
        "        if idx > k - 1:\n",
        "            idx = k - 1\n",
        "\n",
        "        # store point index and calculate distance to middle point\n",
        "        bucket[idx].append(i)\n",
        "        bucket_dist[idx] += np.sqrt(np.sum((segment[i] - segment_middle) ** 2))  # distance feature\n",
        "\n",
        "    # add end point to last bin\n",
        "    bucket[k - 1].append(-1)\n",
        "\n",
        "    # calculate average distance for each bin\n",
        "    feature_dist = []\n",
        "    for j in range(k):\n",
        "        avg_dst = 0\n",
        "        a = len(bucket[j])\n",
        "        # average distance if bin has points\n",
        "        if a > 0:\n",
        "            avg_dst = bucket_dist[j] / a\n",
        "        else:\n",
        "            # use previous bin's distance...\n",
        "            if len(feature_dist) > 0:\n",
        "                avg_dst = feature_dist[-1]\n",
        "            # ...or distance to start point\n",
        "            else:\n",
        "                avg_dst = np.sqrt(np.sum((segment_start - segment_middle) ** 2))\n",
        "        feature_dist.append(avg_dst)\n",
        "\n",
        "    # combine distance features with point distribution features\n",
        "    feature = feature_dist + feature_point\n",
        "    return feature"
      ],
      "metadata": {
        "id": "A69oNsaywKeP"
      },
      "execution_count": null,
      "outputs": []
    },
    {
      "cell_type": "code",
      "source": [
        "def process_trajectory_windows(\n",
        "        trajectory: NDArray[float64],\n",
        "        window_size: int,\n",
        "        k: int\n",
        "    ) -> Tuple[NDArray[float64], list]:\n",
        "    \"\"\"Process trajectory windows into MiPo features.\n",
        "\n",
        "    Args:\n",
        "        trajectory (NDArray[float]): Trajectory data.\n",
        "\n",
        "        window_size (int): Sliding window size.\n",
        "\n",
        "        k (int): Number of angle bins.\n",
        "    \"\"\"\n",
        "    mipo_features = []\n",
        "    windows = []\n",
        "    total_points = len(trajectory)\n",
        "\n",
        "    # process each non-overlapping trajectory window\n",
        "    for i in range(0, total_points - window_size + 1, window_size - 1):\n",
        "        window = trajectory[i:i + window_size]\n",
        "        window_features = extract_features(window, k)\n",
        "\n",
        "        mipo_features.append(window_features)\n",
        "        windows.append(window)\n",
        "\n",
        "    # handle remaining points if any\n",
        "    if total_points % window_size != 0:\n",
        "        window = trajectory[-window_size:]\n",
        "        window_features = extract_features(window, k)\n",
        "\n",
        "        mipo_features.append(window_features)\n",
        "        windows.append(window)\n",
        "\n",
        "    return np.array(mipo_features), windows\n",
        "\n",
        "def analyze_trajectory_windows(trajectory, window_size: int, k: int):\n",
        "    \"\"\"\"\"\"\n",
        "    features = []\n",
        "    windows = []\n",
        "    n_points = len(trajectory)\n",
        "\n",
        "    # Process non-overlapping windows\n",
        "    for i in range(0, n_points - window_size + 1, window_size):\n",
        "        window = trajectory[i:i + window_size]\n",
        "        window_features = extract_mipo_features(window, k)\n",
        "        features.append(window_features)\n",
        "        windows.append(window)\n",
        "\n",
        "    # If we have remaining points, create a final full-sized window\n",
        "    last_complete_window = (n_points - window_size) // window_size * window_size\n",
        "    if last_complete_window < n_points - window_size:\n",
        "        last_window = trajectory[-window_size:]  # Take last window_size points\n",
        "        last_features = extract_mipo_features(last_window, k)\n",
        "        features.append(last_features)\n",
        "        windows.append(last_window)\n",
        "    return features, windows"
      ],
      "metadata": {
        "id": "PprrO7d7Hen-"
      },
      "execution_count": 25,
      "outputs": []
    },
    {
      "cell_type": "code",
      "source": [
        "def outlier_detection(features: NDArray[float64], n_neighbors: int = 15):\n",
        "    \"\"\"\"\"\"\n",
        "    robust_scaler = RobustScaler()\n",
        "    X = robust_scaler.fit_transform(features)\n",
        "\n",
        "    # Create and fit LOF detector\n",
        "    clf = LocalOutlierFactor(\n",
        "        n_neighbors=n_neighbors,\n",
        "        contamination=\"auto\",\n",
        "        novelty=False\n",
        "    )\n",
        "\n",
        "    # outlier labels (-1 for outliers, 1 for inliers)\n",
        "    outlier_labels = clf.fit_predict(X)\n",
        "\n",
        "    # outlier scores (negative of LOF decision function)\n",
        "    outlier_scores = -clf.negative_outlier_factor_\n",
        "\n",
        "    return outlier_labels, outlier_scores"
      ],
      "metadata": {
        "id": "4EvqxrmjKwdu"
      },
      "execution_count": 32,
      "outputs": []
    },
    {
      "cell_type": "code",
      "source": [
        "data[\"uid\"].unique()"
      ],
      "metadata": {
        "colab": {
          "base_uri": "https://localhost:8080/"
        },
        "id": "RWFAtOamRUXw",
        "outputId": "3d984e17-28ca-46a0-c0ad-3d991f85a768"
      },
      "execution_count": 8,
      "outputs": [
        {
          "output_type": "execute_result",
          "data": {
            "text/plain": [
              "<StringArray>\n",
              "['traj_10074', 'traj_10213', 'traj_10430', 'traj_10742', 'traj_10758',\n",
              " 'traj_10771',  'traj_1081', 'traj_11016', 'traj_11106', 'traj_11189',\n",
              " 'traj_11226', 'traj_11466', 'traj_11472', 'traj_12137', 'traj_12629',\n",
              " 'traj_12733', 'traj_12882', 'traj_13414', 'traj_13768', 'traj_13879',\n",
              " 'traj_13914', 'traj_14029', 'traj_14214', 'traj_14519', 'traj_14914',\n",
              " 'traj_15041', 'traj_15330', 'traj_15527', 'traj_15579', 'traj_15861',\n",
              " 'traj_16102', 'traj_16237', 'traj_16461', 'traj_16560', 'traj_16873',\n",
              " 'traj_16903', 'traj_16950', 'traj_17028', 'traj_17080', 'traj_17320',\n",
              " 'traj_17495', 'traj_17720', 'traj_18030', 'traj_18054', 'traj_18304',\n",
              "  'traj_2678',  'traj_3071',  'traj_3286',  'traj_3318',  'traj_3377',\n",
              "  'traj_3615',  'traj_3679',  'traj_3828',  'traj_3873',  'traj_4234',\n",
              "  'traj_4355',  'traj_4908',  'traj_4932',  'traj_4973',  'traj_5067',\n",
              "  'traj_5149',  'traj_5543',  'traj_5681',  'traj_5703',  'traj_5777',\n",
              "  'traj_6022',  'traj_6029',  'traj_6037',   'traj_618',  'traj_6308',\n",
              "  'traj_6352',   'traj_639',  'traj_6644',  'traj_6741',  'traj_6807',\n",
              "  'traj_6811',  'traj_6901',  'traj_7023',   'traj_710',  'traj_7231',\n",
              "   'traj_740',  'traj_7521',  'traj_7574',  'traj_7702',  'traj_7989',\n",
              "  'traj_8012',  'traj_8146',  'traj_8680',  'traj_8929',  'traj_8958',\n",
              "  'traj_8991',  'traj_9181',  'traj_9223',  'traj_9380',  'traj_9395',\n",
              "  'traj_9459',  'traj_9743',  'traj_9904',  'traj_9952',  'traj_9969']\n",
              "Length: 100, dtype: string"
            ]
          },
          "metadata": {},
          "execution_count": 8
        }
      ]
    },
    {
      "cell_type": "code",
      "source": [
        "# traj_10074\n",
        "traj_10074 = data.query(\"uid == 'traj_10074'\")\n",
        "x, y, z = latlong_to_cartesian_xyz(traj_10074[\"latitude\"], traj_10074[\"longitude\"])\n",
        "X = np.column_stack((x, y, z))"
      ],
      "metadata": {
        "id": "JuKJrwY5Qzl6"
      },
      "execution_count": 70,
      "outputs": []
    },
    {
      "cell_type": "code",
      "source": [
        "X.shape"
      ],
      "metadata": {
        "colab": {
          "base_uri": "https://localhost:8080/"
        },
        "id": "iy3JB7QdVBbZ",
        "outputId": "2cdd5ada-e0fa-4c2e-f544-6cb7cb3d8faa"
      },
      "execution_count": 71,
      "outputs": [
        {
          "output_type": "execute_result",
          "data": {
            "text/plain": [
              "(927, 3)"
            ]
          },
          "metadata": {},
          "execution_count": 71
        }
      ]
    },
    {
      "cell_type": "code",
      "source": [
        "features, windows = process_trajectory_windows(X, window_size=20, k=10)"
      ],
      "metadata": {
        "id": "ZpazuREIOm8q"
      },
      "execution_count": 72,
      "outputs": []
    },
    {
      "cell_type": "code",
      "source": [
        "middles = np.array([(w[0] + w[-1]) / 2] for w in windows)"
      ],
      "metadata": {
        "id": "6uf_z6mjLPQL"
      },
      "execution_count": 79,
      "outputs": []
    },
    {
      "cell_type": "code",
      "source": [
        "np.mean(windows[0][[0,-1]], axis=0), np.median(windows[0], axis=0)"
      ],
      "metadata": {
        "id": "Rs5GSDoNXt4G",
        "outputId": "0ec4208c-5d14-4126-9360-af50fda6e051",
        "colab": {
          "base_uri": "https://localhost:8080/"
        }
      },
      "execution_count": 90,
      "outputs": [
        {
          "output_type": "execute_result",
          "data": {
            "text/plain": [
              "(array([4185534.91884148, -478105.86343212, 4772862.77593838]),\n",
              " array([4173055.75123683, -467475.39194074, 4784799.70812372]))"
            ]
          },
          "metadata": {},
          "execution_count": 90
        }
      ]
    },
    {
      "cell_type": "code",
      "source": [
        "# Get outlier scores (-1 for outliers, 1 for inliers)\n",
        "outlier_labels, outlier_scores = outlier_detection(features)"
      ],
      "metadata": {
        "id": "npHBVxRfhFxy"
      },
      "execution_count": 74,
      "outputs": []
    },
    {
      "cell_type": "code",
      "source": [
        "# prompt: for the verticle lines drawn on a plot, how do i group the labels as there are duplicates or if it is better, how do i add the custom dashed blue or red lines and label tot he legend\n",
        "\n",
        "# import numpy as np\n",
        "# import matplotlib.pyplot as plt\n",
        "\n",
        "# # Assuming 'middles' and 'outlier_scores' are defined as in your provided code\n",
        "\n",
        "# # Create the plot\n",
        "# plt.figure(figsize=(10, 6))\n",
        "# plt.scatter(middles[:, 0], middles[:, 1], c=outlier_scores, cmap='viridis')\n",
        "# plt.colorbar(label='Outlier Score')\n",
        "\n",
        "# # Define thresholds for different outlier groups (example thresholds)\n",
        "# thresholds = [-2, -1, 0]  # Customize these as needed\n",
        "# colors = ['red', 'blue', 'green']  # Colors for different threshold groups\n",
        "# linestyles = ['--', '--', '--']\n",
        "\n",
        "\n",
        "# for i, threshold in enumerate(thresholds):\n",
        "#     # Find indices of points exceeding the current threshold\n",
        "#     indices = np.where(outlier_scores >= threshold)[0]\n",
        "\n",
        "#     if len(indices) > 0: # Check if any indices exceed threshold\n",
        "#         # Plot vertical lines for each point exceeding the threshold\n",
        "#         for index in indices:\n",
        "#             plt.axvline(x=middles[index, 0], color=colors[i], linestyle=linestyles[i], linewidth=1, label=f'Outlier Score >= {threshold}' if index == indices[0] else \"\")\n",
        "\n",
        "# # Customize legend to avoid duplicate entries\n",
        "# handles, labels = plt.gca().get_legend_handles_labels()\n",
        "# by_label = dict(zip(labels, handles))\n",
        "# plt.legend(by_label.values(), by_label.keys())\n",
        "\n",
        "\n",
        "# plt.xlabel('Median X')\n",
        "# plt.ylabel('Median Y')\n",
        "# plt.title('Trajectory Windows with Outlier Scores and Vertical Lines')\n",
        "# plt.show()\n"
      ],
      "metadata": {
        "id": "qhjpqzDcjZVz"
      },
      "execution_count": 75,
      "outputs": []
    },
    {
      "cell_type": "code",
      "source": [
        "fig, ax = plt.subplots(figsize=(18, 4), dpi=250)\n",
        "\n",
        "# plt.figure(figsize=(15,10), dpi=100)\n",
        "\n",
        "ax.plot(\n",
        "    middles[:,0],\n",
        "    middles[:,1],\n",
        "    marker='o',\n",
        "    ms=10,\n",
        "    linestyle='-',\n",
        "    color='g',\n",
        "    linewidth=0.5,\n",
        "    alpha=0.5,\n",
        "    label='Window Middle'\n",
        ")\n",
        "\n",
        "ax.plot(\n",
        "    X[:,0],\n",
        "    X[:,1],\n",
        "    marker='o',\n",
        "    ms=3,\n",
        "    linestyle='-',\n",
        "    color='b',\n",
        "    linewidth=0.5,\n",
        "    label='Trajectory'\n",
        ")\n",
        "\n",
        "for i, window in enumerate(windows):\n",
        "    ax.plot(\n",
        "        window[:, 0],\n",
        "        window[:, 1],\n",
        "        #label=f\"Window {i+1}\"\n",
        "    )  # Plot each window\n",
        "\n",
        "    # colour = \"blue\" if outlier_labels[i] == 1 else \"red\"\n",
        "    # label = \"Inlier\" if outlier_labels[i] == 1 else \"Outlier\"\n",
        "\n",
        "    if outlier_labels[i] == -1:\n",
        "        # Add vertical lines at the start and end of outlier windows\n",
        "        ax.axvline(x=window[0, 0], color=\"r\", linestyle='--', linewidth=0.5)\n",
        "        ax.axvline(x=window[-1, 0], color=\"r\", linestyle='--', linewidth=0.5)\n",
        "\n",
        "# Add a colorbar for the legend\n",
        "plt.legend()"
      ],
      "metadata": {
        "colab": {
          "base_uri": "https://localhost:8080/",
          "height": 559
        },
        "id": "MLJd7YAvHeaj",
        "outputId": "7f4fa9ab-20b6-42d5-f71a-4f76dea50bb8"
      },
      "execution_count": 76,
      "outputs": [
        {
          "output_type": "error",
          "ename": "IndexError",
          "evalue": "index 1 is out of bounds for axis 1 with size 1",
          "traceback": [
            "\u001b[0;31m---------------------------------------------------------------------------\u001b[0m",
            "\u001b[0;31mIndexError\u001b[0m                                Traceback (most recent call last)",
            "\u001b[0;32m<ipython-input-76-f17a82dac03b>\u001b[0m in \u001b[0;36m<cell line: 0>\u001b[0;34m()\u001b[0m\n\u001b[1;32m      5\u001b[0m ax.plot(\n\u001b[1;32m      6\u001b[0m     \u001b[0mmiddles\u001b[0m\u001b[0;34m[\u001b[0m\u001b[0;34m:\u001b[0m\u001b[0;34m,\u001b[0m\u001b[0;36m0\u001b[0m\u001b[0;34m]\u001b[0m\u001b[0;34m,\u001b[0m\u001b[0;34m\u001b[0m\u001b[0;34m\u001b[0m\u001b[0m\n\u001b[0;32m----> 7\u001b[0;31m     \u001b[0mmiddles\u001b[0m\u001b[0;34m[\u001b[0m\u001b[0;34m:\u001b[0m\u001b[0;34m,\u001b[0m\u001b[0;36m1\u001b[0m\u001b[0;34m]\u001b[0m\u001b[0;34m,\u001b[0m\u001b[0;34m\u001b[0m\u001b[0;34m\u001b[0m\u001b[0m\n\u001b[0m\u001b[1;32m      8\u001b[0m     \u001b[0mmarker\u001b[0m\u001b[0;34m=\u001b[0m\u001b[0;34m'o'\u001b[0m\u001b[0;34m,\u001b[0m\u001b[0;34m\u001b[0m\u001b[0;34m\u001b[0m\u001b[0m\n\u001b[1;32m      9\u001b[0m     \u001b[0mms\u001b[0m\u001b[0;34m=\u001b[0m\u001b[0;36m10\u001b[0m\u001b[0;34m,\u001b[0m\u001b[0;34m\u001b[0m\u001b[0;34m\u001b[0m\u001b[0m\n",
            "\u001b[0;31mIndexError\u001b[0m: index 1 is out of bounds for axis 1 with size 1"
          ]
        },
        {
          "output_type": "display_data",
          "data": {
            "text/plain": [
              "<Figure size 4500x1000 with 1 Axes>"
            ],
            "image/png": "[encoded data removed]"
          },
          "metadata": {}
        }
      ]
    },
    {
      "cell_type": "code",
      "source": [
        "plt.close(\"all\")"
      ],
      "metadata": {
        "id": "klk-SQq1WYjZ"
      },
      "execution_count": 77,
      "outputs": []
    },
    {
      "cell_type": "code",
      "source": [
        "features[:2]"
      ],
      "metadata": {
        "colab": {
          "base_uri": "https://localhost:8080/"
        },
        "id": "qJ4aXdYOUWaV",
        "outputId": "e9cda6d4-cae1-48d1-9bda-a61e674d91fc"
      },
      "execution_count": 66,
      "outputs": [
        {
          "output_type": "execute_result",
          "data": {
            "text/plain": [
              "array([[1.96916053e+04, 1.96916053e+04, 1.96916053e+04, 1.96916053e+04,\n",
              "        1.96916053e+04, 1.96916053e+04, 1.96916053e+04, 4.05283774e+02,\n",
              "        4.05283774e+02, 4.05283774e+02, 0.00000000e+00, 1.90000000e+01],\n",
              "       [3.66405843e+03, 3.66405843e+03, 3.66405843e+03, 3.66405843e+03,\n",
              "        3.66405843e+03, 3.66405843e+03, 3.66405843e+03, 3.66405843e+03,\n",
              "        3.66405843e+03, 9.09069017e+03, 9.00000000e+00, 1.00000000e+01]])"
            ]
          },
          "metadata": {},
          "execution_count": 66
        }
      ]
    },
    {
      "cell_type": "code",
      "source": [
        "outlier_scores"
      ],
      "metadata": {
        "id": "L-4eWTil2Efc",
        "colab": {
          "base_uri": "https://localhost:8080/"
        },
        "outputId": "eb8eb5eb-7449-42e4-a5ca-056d26c342ef"
      },
      "execution_count": 67,
      "outputs": [
        {
          "output_type": "execute_result",
          "data": {
            "text/plain": [
              "array([4.80428426, 1.48659956, 1.48989114, 1.49709128, 3.12419217,\n",
              "       1.12848327, 0.95488518, 0.99613136, 1.11305978, 1.21660571,\n",
              "       1.36194193, 1.11644729, 1.28125845, 1.26947115, 1.36081811,\n",
              "       1.05968721, 1.32858493, 0.96007988, 1.03187185, 1.30726008,\n",
              "       2.50673922, 1.04530177, 1.07790033, 1.8636175 , 1.4866647 ,\n",
              "       1.32220519, 1.46954985, 0.99190027, 1.21578842, 1.01753308,\n",
              "       1.11327223, 0.96195761, 1.28276217, 0.9994158 , 1.45223067,\n",
              "       1.19688841, 0.97019011, 0.95076386, 1.11746765, 0.96307067,\n",
              "       0.98738142, 0.99018177, 0.98677487, 0.95062749, 0.99489806,\n",
              "       0.95667595, 1.3379529 , 6.32881997, 3.54246793])"
            ]
          },
          "metadata": {},
          "execution_count": 67
        }
      ]
    },
    {
      "cell_type": "code",
      "source": [
        "outlier_labels"
      ],
      "metadata": {
        "colab": {
          "base_uri": "https://localhost:8080/"
        },
        "id": "mwvm9kLzf9gc",
        "outputId": "78831156-cd16-4bfc-e6db-e61f4a02feed"
      },
      "execution_count": 68,
      "outputs": [
        {
          "output_type": "execute_result",
          "data": {
            "text/plain": [
              "array([-1,  1,  1,  1, -1,  1,  1,  1,  1,  1,  1,  1,  1,  1,  1,  1,  1,\n",
              "        1,  1,  1, -1,  1,  1, -1,  1,  1,  1,  1,  1,  1,  1,  1,  1,  1,\n",
              "        1,  1,  1,  1,  1,  1,  1,  1,  1,  1,  1,  1,  1, -1, -1])"
            ]
          },
          "metadata": {},
          "execution_count": 68
        }
      ]
    },
    {
      "cell_type": "code",
      "source": [
        "len(windows)"
      ],
      "metadata": {
        "colab": {
          "base_uri": "https://localhost:8080/"
        },
        "id": "1mzsslYuf-IK",
        "outputId": "a8d6d7a7-2a69-40f1-d073-24bd8145606a"
      },
      "execution_count": 69,
      "outputs": [
        {
          "output_type": "execute_result",
          "data": {
            "text/plain": [
              "49"
            ]
          },
          "metadata": {},
          "execution_count": 69
        }
      ]
    },
    {
      "cell_type": "markdown",
      "source": [
        "## Improvements\n",
        "\n",
        "1.   Parallelizing window processing since windows are independent\n",
        "2.   Using vectorized operations for angle and distance calculations\n",
        "3.   Pre-computing commonly used values like distances to middle point\n",
        "\n",
        "\n"
      ],
      "metadata": {
        "id": "8No-DP0gwQBV"
      }
    },
    {
      "cell_type": "code",
      "source": [
        "np.median(np.array([[2,3], [4,5]]), axis=0)"
      ],
      "metadata": {
        "id": "VhvMR9GTi0Oe",
        "colab": {
          "base_uri": "https://localhost:8080/"
        },
        "outputId": "3525255d-1e3b-4093-d63c-1efde6fdc686"
      },
      "execution_count": 57,
      "outputs": [
        {
          "output_type": "execute_result",
          "data": {
            "text/plain": [
              "array([3., 4.])"
            ]
          },
          "metadata": {},
          "execution_count": 57
        }
      ]
    },
    {
      "cell_type": "code",
      "source": [
        "np.mean(np.array([[2,3], [4,5]]), axis=0)"
      ],
      "metadata": {
        "colab": {
          "base_uri": "https://localhost:8080/"
        },
        "id": "ifhGs7QsVyoc",
        "outputId": "e6a9c620-edb1-4fbb-9539-d2ee156af11b"
      },
      "execution_count": 58,
      "outputs": [
        {
          "output_type": "execute_result",
          "data": {
            "text/plain": [
              "array([3., 4.])"
            ]
          },
          "metadata": {},
          "execution_count": 58
        }
      ]
    },
    {
      "cell_type": "code",
      "source": [],
      "metadata": {
        "id": "GslU3C_mV5uo"
      },
      "execution_count": null,
      "outputs": []
    }
  ]
}